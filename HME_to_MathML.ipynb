{
  "nbformat": 4,
  "nbformat_minor": 0,
  "metadata": {
    "colab": {
      "name": "HME to MathML",
      "provenance": [],
      "collapsed_sections": [],
      "toc_visible": true,
      "machine_shape": "hm",
      "include_colab_link": true
    },
    "kernelspec": {
      "name": "python3",
      "display_name": "Python 3"
    },
    "accelerator": "GPU"
  },
  "cells": [
    {
      "cell_type": "markdown",
      "metadata": {
        "id": "view-in-github",
        "colab_type": "text"
      },
      "source": [
        "<a href=\"https://colab.research.google.com/github/may98ank/Codes/blob/master/HME_to_MathML.ipynb\" target=\"_parent\"><img src=\"https://colab.research.google.com/assets/colab-badge.svg\" alt=\"Open In Colab\"/></a>"
      ]
    },
    {
      "cell_type": "code",
      "metadata": {
        "id": "m1wAK0syDb5B",
        "colab_type": "code",
        "colab": {}
      },
      "source": [
        "# from google.colab import drive\n",
        "# drive.mount('/content/drive')\n",
        "# !unzip \"/content/drive/My Drive/data (1)/cleaned_mathML.zip\" -d data/\n",
        "# !unzip \"/content/drive/My Drive/data (1)/hme_images.zip\" -d data/"
      ],
      "execution_count": null,
      "outputs": []
    },
    {
      "cell_type": "code",
      "metadata": {
        "id": "CdUz8CsGHWcI",
        "colab_type": "code",
        "colab": {}
      },
      "source": [
        "%matplotlib inline\n",
        "import torch\n",
        "import numpy as np\n",
        "import os, cv2\n",
        "from torchvision import models\n",
        "import torchvision.transforms as T\n",
        "from torch import nn\n",
        "from torch.autograd import Variable\n",
        "from PIL import Image\n",
        "from pprint import pprint\n",
        "import time\n",
        "import math\n",
        "import matplotlib.pyplot as plt\n",
        "plt.switch_backend('agg')\n",
        "import matplotlib.ticker as ticker\n",
        "from torch import optim\n",
        "from nltk.translate.bleu_score import sentence_bleu\n",
        "import torch.nn.functional as F\n",
        "import random"
      ],
      "execution_count": null,
      "outputs": []
    },
    {
      "cell_type": "code",
      "metadata": {
        "id": "GndfsI3GOTOJ",
        "colab_type": "code",
        "colab": {}
      },
      "source": [
        ""
      ],
      "execution_count": null,
      "outputs": []
    },
    {
      "cell_type": "code",
      "metadata": {
        "id": "0vapp3we02-y",
        "colab_type": "code",
        "colab": {}
      },
      "source": [
        "MAX_LENGTH = 200"
      ],
      "execution_count": null,
      "outputs": []
    },
    {
      "cell_type": "code",
      "metadata": {
        "id": "B9_nEZQQH2FU",
        "colab_type": "code",
        "colab": {
          "base_uri": "https://localhost:8080/",
          "height": 35
        },
        "outputId": "34ccb29f-f495-4505-ef8f-23bcc528894d"
      },
      "source": [
        "device = torch.device(\"cuda\" if torch.cuda.is_available() else \"cpu\")\n",
        "print(device)"
      ],
      "execution_count": null,
      "outputs": [
        {
          "output_type": "stream",
          "text": [
            "cuda\n"
          ],
          "name": "stdout"
        }
      ]
    },
    {
      "cell_type": "code",
      "metadata": {
        "id": "iIP-PKkvH6q4",
        "colab_type": "code",
        "colab": {}
      },
      "source": [
        "def get_path(s):\n",
        "    paths = {\n",
        "        \"Images\" : \"data/images/\",\n",
        "        \"Vocab\" : \"data/kaggle/cleaned_mathml/vocab.csv\",\n",
        "        \"MathML\" : \"data/kaggle/cleaned_mathml/\"\n",
        "    }\n",
        "    return paths[s]"
      ],
      "execution_count": null,
      "outputs": []
    },
    {
      "cell_type": "code",
      "metadata": {
        "id": "2Xc3rPQoHynD",
        "colab_type": "code",
        "colab": {}
      },
      "source": [
        "Image_transform = T.Compose([\n",
        "                    T.Resize(224),\n",
        "                    T.CenterCrop(224),\n",
        "                    T.ToTensor(), \n",
        "                    T.Normalize(mean = [0.485, 0.456, 0.406],\n",
        "                             std = [0.229, 0.224, 0.225])\n",
        "                    ])"
      ],
      "execution_count": null,
      "outputs": []
    },
    {
      "cell_type": "code",
      "metadata": {
        "id": "Kw6FLB7DIBsQ",
        "colab_type": "code",
        "colab": {}
      },
      "source": [
        "Image_file_names = os.listdir(get_path(\"Images\"))\n",
        "MathML_file_names = os.listdir(get_path(\"MathML\"))\n",
        "\n",
        "temp_image = []\n",
        "temp_mm = []\n",
        "\n",
        "for mm_name in set(MathML_file_names):\n",
        "    img_name = mm_name[:-4] + \".inkml.png\"\n",
        "    if(img_name in Image_file_names):\n",
        "        temp_image.append(img_name)\n",
        "        temp_mm.append(mm_name)\n",
        "\n",
        "Image_file_names = temp_image\n",
        "MathML_file_names = temp_mm\n",
        "data_size = len(Image_file_names)"
      ],
      "execution_count": null,
      "outputs": []
    },
    {
      "cell_type": "code",
      "metadata": {
        "id": "S5TgLYnAIVtQ",
        "colab_type": "code",
        "colab": {}
      },
      "source": [
        "wordtoint = {\n",
        "    '<SOS>' : 0\n",
        "}\n",
        "inttoword = {\n",
        "    0 : '<SOS>',\n",
        "}\n",
        "with open(get_path(\"Vocab\")) as f:\n",
        "    words = f.read().strip().split(\" \")\n",
        "    for e, word in enumerate(words):\n",
        "        wordtoint[word] = e+1\n",
        "        inttoword[e+1] = word\n",
        "end = len(wordtoint)\n",
        "wordtoint['<EOS>'] = end\n",
        "inttoword[end] = '<EOS>'\n",
        "SOS_token = 0\n",
        "EOS_token = end"
      ],
      "execution_count": null,
      "outputs": []
    },
    {
      "cell_type": "code",
      "metadata": {
        "id": "_mPRWqQ5IukL",
        "colab_type": "code",
        "colab": {}
      },
      "source": [
        "def get_input_pair(index):\n",
        "    img = Image.open(get_path(\"Images\") + Image_file_names[index]).convert(\"RGB\")\n",
        "    img = Image_transform(img).unsqueeze(0)\n",
        "    tar = None\n",
        "    with open(get_path(\"MathML\") + MathML_file_names[index]) as f:\n",
        "        arr = f.read().strip().split(\" \")\n",
        "        tar = [torch.tensor([wordtoint[word]]) for word in arr]\n",
        "    tar.append(torch.tensor([EOS_token]))\n",
        "    tar = torch.tensor(tar).reshape(-1, 1)\n",
        "    return img, tar"
      ],
      "execution_count": null,
      "outputs": []
    },
    {
      "cell_type": "code",
      "metadata": {
        "id": "tB42xF39I_4U",
        "colab_type": "code",
        "colab": {}
      },
      "source": [
        ""
      ],
      "execution_count": null,
      "outputs": []
    },
    {
      "cell_type": "code",
      "metadata": {
        "id": "AwwOXXJwHaqq",
        "colab_type": "code",
        "colab": {}
      },
      "source": [
        "# feature_extractor = models.densenet169(pretrained=True)"
      ],
      "execution_count": null,
      "outputs": []
    },
    {
      "cell_type": "code",
      "metadata": {
        "id": "WAu89Zd1JGjd",
        "colab_type": "code",
        "colab": {}
      },
      "source": [
        "# feature_extractor"
      ],
      "execution_count": null,
      "outputs": []
    },
    {
      "cell_type": "code",
      "metadata": {
        "id": "qb_MdiRHT48e",
        "colab_type": "code",
        "colab": {
          "base_uri": "https://localhost:8080/",
          "height": 290
        },
        "outputId": "84817780-97a0-45d8-86de-e29addd2334e"
      },
      "source": [
        "# modules = list(feature_extractor.children())[:-1]\n",
        "# feature_extractor = nn.Sequential(*modules)\n",
        "# ls = []\n",
        "# for child in feature_extractor.children():\n",
        "#     if(child == feature_extractor.Mixed_5d):\n",
        "#         ls.append(child)\n",
        "#         break\n",
        "#     ls.append(child)\n",
        "# feature_extractor = nn.Sequential(*ls)\n",
        "feature_extractor = models.densenet169(pretrained=True)\n",
        "ls = []\n",
        "for child in feature_extractor.children():\n",
        "    ls.append(child)\n",
        "\n",
        "feature_extractor = ls[0]\n",
        "ls = []\n",
        "for child in feature_extractor.children():\n",
        "    ls.append(child)\n",
        "for ele in ls:\n",
        "    print(type(ele))\n",
        "\n",
        "feature_extractor = nn.Sequential(*ls[:-4])\n",
        "ls = []\n",
        "for child in feature_extractor.children():\n",
        "    ls.append(child)\n",
        "len(ls)"
      ],
      "execution_count": null,
      "outputs": [
        {
          "output_type": "stream",
          "text": [
            "Downloading: \"https://download.pytorch.org/models/densenet169-b2777c0a.pth\" to /root/.cache/torch/checkpoints/densenet169-b2777c0a.pth\n",
            "100%|██████████| 54.7M/54.7M [00:00<00:00, 57.8MB/s]\n"
          ],
          "name": "stderr"
        },
        {
          "output_type": "stream",
          "text": [
            "<class 'torch.nn.modules.conv.Conv2d'>\n",
            "<class 'torch.nn.modules.batchnorm.BatchNorm2d'>\n",
            "<class 'torch.nn.modules.activation.ReLU'>\n",
            "<class 'torch.nn.modules.pooling.MaxPool2d'>\n",
            "<class 'torchvision.models.densenet._DenseBlock'>\n",
            "<class 'torchvision.models.densenet._Transition'>\n",
            "<class 'torchvision.models.densenet._DenseBlock'>\n",
            "<class 'torchvision.models.densenet._Transition'>\n",
            "<class 'torchvision.models.densenet._DenseBlock'>\n",
            "<class 'torchvision.models.densenet._Transition'>\n",
            "<class 'torchvision.models.densenet._DenseBlock'>\n",
            "<class 'torch.nn.modules.batchnorm.BatchNorm2d'>\n"
          ],
          "name": "stdout"
        },
        {
          "output_type": "execute_result",
          "data": {
            "text/plain": [
              "8"
            ]
          },
          "metadata": {
            "tags": []
          },
          "execution_count": 13
        }
      ]
    },
    {
      "cell_type": "code",
      "metadata": {
        "id": "PNh25JAuJDAi",
        "colab_type": "code",
        "colab": {
          "base_uri": "https://localhost:8080/",
          "height": 35
        },
        "outputId": "ae7cf715-f85d-4d86-a8c7-70aa6d483f27"
      },
      "source": [
        "%matplotlib inline\n",
        "img, tar = get_input_pair(0)\n",
        "feature_extractor.eval()\n",
        "feature_extractor(img).shape"
      ],
      "execution_count": null,
      "outputs": [
        {
          "output_type": "execute_result",
          "data": {
            "text/plain": [
              "torch.Size([1, 256, 14, 14])"
            ]
          },
          "metadata": {
            "tags": []
          },
          "execution_count": 14
        }
      ]
    },
    {
      "cell_type": "code",
      "metadata": {
        "id": "sNO5GNkIJYwc",
        "colab_type": "code",
        "colab": {}
      },
      "source": [
        "# from graphviz import Digraph\n",
        "# import re\n",
        "# import torch\n",
        "# import torch.nn.functional as F\n",
        "# from torch.autograd import Variable\n",
        "# import torchvision.models as models\n",
        "# from torchviz import make_dot\n",
        "\n",
        "# inputs = torch.randn( 1, 3, 224, 224)\n",
        "# y = feature_extractor(inputs)\n",
        "\n",
        "# # print(y)\n",
        "\n",
        "# g = make_dot(y)\n",
        "# g.view()"
      ],
      "execution_count": null,
      "outputs": []
    },
    {
      "cell_type": "code",
      "metadata": {
        "id": "pzuguRSRY6_a",
        "colab_type": "code",
        "colab": {}
      },
      "source": [
        "# !pip install torchviz"
      ],
      "execution_count": null,
      "outputs": []
    },
    {
      "cell_type": "code",
      "metadata": {
        "id": "zWmn0x8TaI9D",
        "colab_type": "code",
        "colab": {}
      },
      "source": [
        "class Encoder(nn.Module):\n",
        "    def __init__(self, feature_extractor, d_prob=0.1):\n",
        "        super(Encoder, self).__init__()\n",
        "        self.densenet = feature_extractor\n",
        "        for p in self.densenet.parameters():\n",
        "            p.requires_grad = False\n",
        "        \n",
        "        self.cnn1 = nn.Conv2d(256, 512, kernel_size=(1,1))\n",
        "        # self.cnn2 = nn.Conv2d(512, 512, kernel_size=(1,1))\n",
        "        self.cnn3 = nn.Conv2d(512, 350, kernel_size=(1,1))\n",
        "        self.relu = nn.ReLU()\n",
        "        self.dropout = nn.Dropout(d_prob)\n",
        "\n",
        "    def forward(self, image):\n",
        "        output = self.densenet(image)\n",
        "        output = self.relu(self.dropout(self.cnn1(output)))\n",
        "        # output = self.relu(self.dropout(self.cnn2(output)))\n",
        "        output = self.relu(self.dropout(self.cnn3(output)))\n",
        "        return output"
      ],
      "execution_count": null,
      "outputs": []
    },
    {
      "cell_type": "code",
      "metadata": {
        "id": "ccATWejB288P",
        "colab_type": "code",
        "colab": {}
      },
      "source": [
        "class Decoder(nn.Module):\n",
        "    def __init__(self, hidden_size, output_size, drop_prob=0.1, max_size=MAX_LENGTH):\n",
        "        super(Decoder, self).__init__()\n",
        "        self.hidden_size = hidden_size\n",
        "        self.output_size = output_size\n",
        "        self.drop_prob = drop_prob\n",
        "        self.max_size = max_size\n",
        "        \n",
        "        self.embedding = nn.Embedding(output_size, hidden_size)\n",
        "        self.attn = nn.Linear(hidden_size * 2, max_size)\n",
        "        self.attn_combine = nn.Linear(hidden_size * 2, hidden_size)\n",
        "        self.dropout = nn.Dropout(drop_prob)\n",
        "        self.gru = nn.GRU(hidden_size, hidden_size)\n",
        "        self.out = nn.Linear(hidden_size, output_size)\n",
        "        \n",
        "    def forward(self, inp, hidden, encoder_outputs):\n",
        "        embedded = self.embedding(inp).view(1, 1, -1)\n",
        "        embedded = self.dropout(embedded)\n",
        "\n",
        "        attn_weights = F.softmax(self.attn(torch.cat((embedded[0], hidden[0]), 1)), dim=1)\n",
        "#         print(attn_weights.shape)\n",
        "#         print(encoder_outputs.shape)\n",
        "        attn_applied = torch.bmm(attn_weights.unsqueeze(0), encoder_outputs.unsqueeze(0))\n",
        "        \n",
        "        output = torch.cat((embedded[0], attn_applied[0]), 1)\n",
        "        output = self.attn_combine(output).unsqueeze(0)\n",
        "        output = F.relu(output)\n",
        "        output, hidden = self.gru(output, hidden)\n",
        "        output = F.log_softmax(self.out(output[0]), dim=1)\n",
        "        \n",
        "        return output, hidden, attn_weights\n",
        "\n",
        "    def initHidden(self):\n",
        "        return torch.zeros(1, 1, self.hidden_size, device=device)"
      ],
      "execution_count": null,
      "outputs": []
    },
    {
      "cell_type": "code",
      "metadata": {
        "id": "NEobW-d43Jgr",
        "colab_type": "code",
        "colab": {}
      },
      "source": [
        "def asMinutes(s):\n",
        "    m = math.floor(s / 60)\n",
        "    s -= m * 60\n",
        "    return '%dm %ds' % (m, s)\n",
        "\n",
        "\n",
        "def timeSince(since, percent):\n",
        "    now = time.time()\n",
        "    s = now - since\n",
        "    es = s / (percent)\n",
        "    rs = es - s\n",
        "    return '%s (- %s)' % (asMinutes(s), asMinutes(rs))"
      ],
      "execution_count": null,
      "outputs": []
    },
    {
      "cell_type": "code",
      "metadata": {
        "id": "-Q7b7y8L3j1T",
        "colab_type": "code",
        "colab": {}
      },
      "source": [
        "teacher_forcing_ratio = 0.5\n",
        "\n",
        "\n",
        "def train(input_tensor, target_tensor, encoder, decoder, encoder_optimizer, decoder_optimizer, criterion, valid=False, max_length=MAX_LENGTH):\n",
        "    encoder_optimizer.zero_grad()\n",
        "    decoder_optimizer.zero_grad()\n",
        "\n",
        "    target_length = target_tensor.size(0)\n",
        "#     print(input_tensor.shape)\n",
        "#     print(target_tensor.shape)\n",
        "#     encoder_outputs = torch.zeros(max_length, encoder.hidden_size, device=device)\n",
        "\n",
        "    loss = 0\n",
        "\n",
        "    encoder_outputs = encoder(input_tensor).reshape(200, -1)\n",
        "    \n",
        "    decoder_input = torch.tensor([[SOS_token]], device=device)\n",
        "#     print(encoder_outputs.shape)\n",
        "    \n",
        "    decoder_hidden = decoder.initHidden()\n",
        "\n",
        "    use_teacher_forcing = True if random.random() < teacher_forcing_ratio else False\n",
        "\n",
        "    if use_teacher_forcing:\n",
        "        # Teacher forcing: Feed the target as the next input\n",
        "        for di in range(target_length):\n",
        "            decoder_output, decoder_hidden, decoder_attention = decoder(decoder_input, decoder_hidden, encoder_outputs)\n",
        "            # print(target_tensor[di], decoder_output)\n",
        "            loss += criterion(decoder_output, target_tensor[di])\n",
        "            \n",
        "            decoder_input = target_tensor[di]  # Teacher forcing\n",
        "\n",
        "    else:\n",
        "        # Without teacher forcing: use its own predictions as the next input\n",
        "        for di in range(target_length):\n",
        "            decoder_output, decoder_hidden, decoder_attention = decoder( decoder_input, decoder_hidden, encoder_outputs)\n",
        "            topv, topi = decoder_output.topk(1)\n",
        "            decoder_input = topi.squeeze().detach()  # detach from history as input\n",
        "\n",
        "            loss += criterion(decoder_output, target_tensor[di])\n",
        "            if decoder_input.item() == EOS_token:\n",
        "                break\n",
        "    if(not valid):\n",
        "        loss = loss/target_length\n",
        "        loss.backward()\n",
        "\n",
        "        encoder_optimizer.step()\n",
        "        decoder_optimizer.step()\n",
        "\n",
        "    return loss.item()"
      ],
      "execution_count": null,
      "outputs": []
    },
    {
      "cell_type": "code",
      "metadata": {
        "id": "6m3CN7E1YQ_X",
        "colab_type": "code",
        "colab": {}
      },
      "source": [
        "def Evaluate(encoder, decoder, indices):\n",
        "    encoder = encoder.eval()\n",
        "    decoder = decoder.eval()\n",
        "    random.shuffle(indices)\n",
        "    indices = indices[:1000]\n",
        "    score = 0\n",
        "    for idx in indices:\n",
        "        img, tar = get_input_pair(idx)\n",
        "        # plt.imshow(cv2.imread(get_path(\"Images\") + Image_file_names[idx]))\n",
        "        img = img.to(device)\n",
        "        tar = tar.to(device)\n",
        "        out = encoder(img).reshape(200, -1)\n",
        "        hid = decoder.initHidden().to(device)\n",
        "        start = torch.tensor([SOS_token]).to(device)\n",
        "        with open(get_path(\"MathML\") + MathML_file_names[idx]) as f:\n",
        "            arr = f.read().strip().split(\" \")\n",
        "        pred = []\n",
        "        for i in range(len(arr)):\n",
        "            ans, hid, attn = decoder(start, hid, out)\n",
        "            pred.append(inttoword[int(F.softmax(ans).argmax())])\n",
        "            # print(inttoword[int(F.softmax(ans).argmax())],arr[i])\n",
        "            start = F.softmax(ans).argmax()\n",
        "        score += sentence_bleu(arr, pred)\n",
        "    encoder = encoder.train()\n",
        "    decoder = decoder.train()\n",
        "    return score/1000"
      ],
      "execution_count": null,
      "outputs": []
    },
    {
      "cell_type": "code",
      "metadata": {
        "id": "BflKIiZA4TL4",
        "colab_type": "code",
        "colab": {}
      },
      "source": [
        "def trainIters(encoder, decoder, n_iters, learning_rate=0.0001, e_start=1, min_avg_loss=None, last_bleu_score=0):\n",
        "    start = time.time()\n",
        "    encoder = encoder.to(device)\n",
        "    decoder = decoder.to(device)\n",
        "    encoder_optimizer = optim.Adam([{\"params\" : encoder.cnn1.parameters()},\n",
        "                                #    {\"params\" : encoder.cnn2.parameters()},\n",
        "                                   {\"params\" : encoder.cnn3.parameters()}]\n",
        "                                  , lr=learning_rate)\n",
        "    decoder_optimizer = optim.Adam(decoder.parameters(), lr=learning_rate)\n",
        "\n",
        "    criterion = nn.NLLLoss()\n",
        "    train_losses = []\n",
        "    valid_losses = []\n",
        "    bleu_scores = []\n",
        "    # validation_data_index = data_index[int(data_size*0.9):]\n",
        "    # if(len(train_data_index) + len(validation_data_index) != data_size):\n",
        "    #     print(\"partition Is Not Good Dude!!\")\n",
        "    #     return\n",
        "    for i in range(e_start, e_start + n_iters):\n",
        "        data_index = list(range(data_size))\n",
        "        random.shuffle(data_index)\n",
        "        train_data_index = data_index[ : int(data_size*0.5)]\n",
        "        total_loss = 0\n",
        "        encoder = encoder.train()\n",
        "        decoder = decoder.train()\n",
        "        for k in train_data_index:\n",
        "            input_tensor, target_tensor = get_input_pair(k)\n",
        "            input_tensor = input_tensor.to(device)\n",
        "            target_tensor = target_tensor.to(device)\n",
        "            loss = train(input_tensor, target_tensor, encoder, decoder, encoder_optimizer, decoder_optimizer, criterion)\n",
        "            total_loss += loss\n",
        "\n",
        "        loss_avg = total_loss/len(train_data_index)\n",
        "        print('%s (%d %d%%) %.4f' % (timeSince(start, i / n_iters), i, i / n_iters * 100, loss_avg))\n",
        "        train_losses.append(loss_avg)\n",
        "        curr_score = Evaluate(encoder, decoder, data_index)\n",
        "        bleu_scores.append(curr_score)\n",
        "        # valid_loss = 0\n",
        "        # encoder = encoder.eval()\n",
        "        # decoder = decoder.eval()\n",
        "        # for k in validation_data_index:\n",
        "        #     input_tensor, target_tensor = get_input_pair(k)\n",
        "        #     input_tensor = input_tensor.to(device)\n",
        "        #     target_tensor = target_tensor.to(device)\n",
        "        #     loss = train(input_tensor, target_tensor, encoder, decoder, encoder_optimizer, decoder_optimizer, criterion, valid=True)\n",
        "        #     valid_loss += loss\n",
        "\n",
        "        # avg_valid_loss = valid_loss/len(validation_data_index)\n",
        "        # valid_losses.append(avg_valid_loss)\n",
        "\n",
        "        # if(last_valid_loss == None or (avg_valid_loss < last_valid_loss)):\n",
        "        #     last_valid_loss = avg_valid_loss\n",
        "        #     print(f'Saving Model at Epoch: {i} with validation loss {avg_valid_loss}')\n",
        "        #     save_state(i, encoder, encoder_optimizer, decoder, decoder_optimizer, avg_valid_loss)\n",
        "        if last_bleu_score < curr_score:\n",
        "            min_avg_loss = loss_avg\n",
        "            last_bleu_score = curr_score\n",
        "            print(\"Saving Model State at: \", i)\n",
        "            save_state(i, encoder, encoder_optimizer, decoder, decoder_optimizer, min_avg_loss)\n",
        "    showPlot(train_losses, bleu_scores, 'red')"
      ],
      "execution_count": null,
      "outputs": []
    },
    {
      "cell_type": "code",
      "metadata": {
        "id": "LvvmHiwD4WKV",
        "colab_type": "code",
        "colab": {}
      },
      "source": [
        "def showPlot(points1, points2, color):\n",
        "    %matplotlib inline\n",
        "    plt.figure()\n",
        "    fig, ax = plt.subplots()\n",
        "    # this locator puts ticks at regular intervals\n",
        "    loc = ticker.MultipleLocator(base=0.2)\n",
        "    ax.yaxis.set_major_locator(loc)\n",
        "    plt.plot(points1, color='red')\n",
        "    plt.plot(points2, color='blue')"
      ],
      "execution_count": null,
      "outputs": []
    },
    {
      "cell_type": "code",
      "metadata": {
        "id": "vNVu1IZT4Z44",
        "colab_type": "code",
        "colab": {}
      },
      "source": [
        "def save_state(epoch, encoder, encoder_optimizer, decoder, decoder_optimizer, loss):\n",
        "    torch.save({\n",
        "            'epoch': epoch,\n",
        "            'loss' : loss,\n",
        "            'encoder_state_dict': encoder.state_dict(),\n",
        "            'encoder_optimizer_state_dict': encoder_optimizer.state_dict(),\n",
        "            'decoder_state_dict': decoder.state_dict(),\n",
        "            'decoder_optimizer_state_dict': decoder_optimizer.state_dict(),\n",
        "            }, \"/content/drive/My Drive/data/checkpoint/checkpoint\"+ \".pth\")"
      ],
      "execution_count": null,
      "outputs": []
    },
    {
      "cell_type": "code",
      "metadata": {
        "id": "8NFkC8Ph4czp",
        "colab_type": "code",
        "colab": {
          "base_uri": "https://localhost:8080/",
          "height": 358
        },
        "outputId": "69a64783-7d4a-460a-8259-2f5499a766e4"
      },
      "source": [
        "encoder = Encoder(feature_extractor)\n",
        "decoder = Decoder(343, len(wordtoint))\n",
        "# model_states = torch.load('../input/modeltest/checkpoint7.pth', map_location=device)\n",
        "# encoder.load_state_dict(model_states[\"encoder_state_dict\"])\n",
        "# decoder.load_state_dict(model_states[\"decoder_state_dict\"])\n",
        "trainIters(encoder, decoder, 20)"
      ],
      "execution_count": null,
      "outputs": [
        {
          "output_type": "error",
          "ename": "KeyboardInterrupt",
          "evalue": "ignored",
          "traceback": [
            "\u001b[0;31m---------------------------------------------------------------------------\u001b[0m",
            "\u001b[0;31mKeyboardInterrupt\u001b[0m                         Traceback (most recent call last)",
            "\u001b[0;32m<ipython-input-25-5ba13b428be4>\u001b[0m in \u001b[0;36m<module>\u001b[0;34m()\u001b[0m\n\u001b[1;32m      4\u001b[0m \u001b[0;31m# encoder.load_state_dict(model_states[\"encoder_state_dict\"])\u001b[0m\u001b[0;34m\u001b[0m\u001b[0;34m\u001b[0m\u001b[0;34m\u001b[0m\u001b[0m\n\u001b[1;32m      5\u001b[0m \u001b[0;31m# decoder.load_state_dict(model_states[\"decoder_state_dict\"])\u001b[0m\u001b[0;34m\u001b[0m\u001b[0;34m\u001b[0m\u001b[0;34m\u001b[0m\u001b[0m\n\u001b[0;32m----> 6\u001b[0;31m \u001b[0mtrainIters\u001b[0m\u001b[0;34m(\u001b[0m\u001b[0mencoder\u001b[0m\u001b[0;34m,\u001b[0m \u001b[0mdecoder\u001b[0m\u001b[0;34m,\u001b[0m \u001b[0;36m20\u001b[0m\u001b[0;34m)\u001b[0m\u001b[0;34m\u001b[0m\u001b[0;34m\u001b[0m\u001b[0m\n\u001b[0m",
            "\u001b[0;32m<ipython-input-22-cd10c9e41bc4>\u001b[0m in \u001b[0;36mtrainIters\u001b[0;34m(encoder, decoder, n_iters, learning_rate, e_start, min_avg_loss, last_bleu_score)\u001b[0m\n\u001b[1;32m     28\u001b[0m             \u001b[0minput_tensor\u001b[0m \u001b[0;34m=\u001b[0m \u001b[0minput_tensor\u001b[0m\u001b[0;34m.\u001b[0m\u001b[0mto\u001b[0m\u001b[0;34m(\u001b[0m\u001b[0mdevice\u001b[0m\u001b[0;34m)\u001b[0m\u001b[0;34m\u001b[0m\u001b[0;34m\u001b[0m\u001b[0m\n\u001b[1;32m     29\u001b[0m             \u001b[0mtarget_tensor\u001b[0m \u001b[0;34m=\u001b[0m \u001b[0mtarget_tensor\u001b[0m\u001b[0;34m.\u001b[0m\u001b[0mto\u001b[0m\u001b[0;34m(\u001b[0m\u001b[0mdevice\u001b[0m\u001b[0;34m)\u001b[0m\u001b[0;34m\u001b[0m\u001b[0;34m\u001b[0m\u001b[0m\n\u001b[0;32m---> 30\u001b[0;31m             \u001b[0mloss\u001b[0m \u001b[0;34m=\u001b[0m \u001b[0mtrain\u001b[0m\u001b[0;34m(\u001b[0m\u001b[0minput_tensor\u001b[0m\u001b[0;34m,\u001b[0m \u001b[0mtarget_tensor\u001b[0m\u001b[0;34m,\u001b[0m \u001b[0mencoder\u001b[0m\u001b[0;34m,\u001b[0m \u001b[0mdecoder\u001b[0m\u001b[0;34m,\u001b[0m \u001b[0mencoder_optimizer\u001b[0m\u001b[0;34m,\u001b[0m \u001b[0mdecoder_optimizer\u001b[0m\u001b[0;34m,\u001b[0m \u001b[0mcriterion\u001b[0m\u001b[0;34m)\u001b[0m\u001b[0;34m\u001b[0m\u001b[0;34m\u001b[0m\u001b[0m\n\u001b[0m\u001b[1;32m     31\u001b[0m             \u001b[0mtotal_loss\u001b[0m \u001b[0;34m+=\u001b[0m \u001b[0mloss\u001b[0m\u001b[0;34m\u001b[0m\u001b[0;34m\u001b[0m\u001b[0m\n\u001b[1;32m     32\u001b[0m \u001b[0;34m\u001b[0m\u001b[0m\n",
            "\u001b[0;32m<ipython-input-20-caeea0321e2d>\u001b[0m in \u001b[0;36mtrain\u001b[0;34m(input_tensor, target_tensor, encoder, decoder, encoder_optimizer, decoder_optimizer, criterion, valid, max_length)\u001b[0m\n\u001b[1;32m     43\u001b[0m     \u001b[0;32mif\u001b[0m\u001b[0;34m(\u001b[0m\u001b[0;32mnot\u001b[0m \u001b[0mvalid\u001b[0m\u001b[0;34m)\u001b[0m\u001b[0;34m:\u001b[0m\u001b[0;34m\u001b[0m\u001b[0;34m\u001b[0m\u001b[0m\n\u001b[1;32m     44\u001b[0m         \u001b[0mloss\u001b[0m \u001b[0;34m=\u001b[0m \u001b[0mloss\u001b[0m\u001b[0;34m/\u001b[0m\u001b[0mtarget_length\u001b[0m\u001b[0;34m\u001b[0m\u001b[0;34m\u001b[0m\u001b[0m\n\u001b[0;32m---> 45\u001b[0;31m         \u001b[0mloss\u001b[0m\u001b[0;34m.\u001b[0m\u001b[0mbackward\u001b[0m\u001b[0;34m(\u001b[0m\u001b[0;34m)\u001b[0m\u001b[0;34m\u001b[0m\u001b[0;34m\u001b[0m\u001b[0m\n\u001b[0m\u001b[1;32m     46\u001b[0m \u001b[0;34m\u001b[0m\u001b[0m\n\u001b[1;32m     47\u001b[0m         \u001b[0mencoder_optimizer\u001b[0m\u001b[0;34m.\u001b[0m\u001b[0mstep\u001b[0m\u001b[0;34m(\u001b[0m\u001b[0;34m)\u001b[0m\u001b[0;34m\u001b[0m\u001b[0;34m\u001b[0m\u001b[0m\n",
            "\u001b[0;32m/usr/local/lib/python3.6/dist-packages/torch/tensor.py\u001b[0m in \u001b[0;36mbackward\u001b[0;34m(self, gradient, retain_graph, create_graph)\u001b[0m\n\u001b[1;32m    164\u001b[0m                 \u001b[0mproducts\u001b[0m\u001b[0;34m.\u001b[0m \u001b[0mDefaults\u001b[0m \u001b[0mto\u001b[0m\u001b[0;31m \u001b[0m\u001b[0;31m`\u001b[0m\u001b[0;31m`\u001b[0m\u001b[0;32mFalse\u001b[0m\u001b[0;31m`\u001b[0m\u001b[0;31m`\u001b[0m\u001b[0;34m.\u001b[0m\u001b[0;34m\u001b[0m\u001b[0;34m\u001b[0m\u001b[0m\n\u001b[1;32m    165\u001b[0m         \"\"\"\n\u001b[0;32m--> 166\u001b[0;31m         \u001b[0mtorch\u001b[0m\u001b[0;34m.\u001b[0m\u001b[0mautograd\u001b[0m\u001b[0;34m.\u001b[0m\u001b[0mbackward\u001b[0m\u001b[0;34m(\u001b[0m\u001b[0mself\u001b[0m\u001b[0;34m,\u001b[0m \u001b[0mgradient\u001b[0m\u001b[0;34m,\u001b[0m \u001b[0mretain_graph\u001b[0m\u001b[0;34m,\u001b[0m \u001b[0mcreate_graph\u001b[0m\u001b[0;34m)\u001b[0m\u001b[0;34m\u001b[0m\u001b[0;34m\u001b[0m\u001b[0m\n\u001b[0m\u001b[1;32m    167\u001b[0m \u001b[0;34m\u001b[0m\u001b[0m\n\u001b[1;32m    168\u001b[0m     \u001b[0;32mdef\u001b[0m \u001b[0mregister_hook\u001b[0m\u001b[0;34m(\u001b[0m\u001b[0mself\u001b[0m\u001b[0;34m,\u001b[0m \u001b[0mhook\u001b[0m\u001b[0;34m)\u001b[0m\u001b[0;34m:\u001b[0m\u001b[0;34m\u001b[0m\u001b[0;34m\u001b[0m\u001b[0m\n",
            "\u001b[0;32m/usr/local/lib/python3.6/dist-packages/torch/autograd/__init__.py\u001b[0m in \u001b[0;36mbackward\u001b[0;34m(tensors, grad_tensors, retain_graph, create_graph, grad_variables)\u001b[0m\n\u001b[1;32m     97\u001b[0m     Variable._execution_engine.run_backward(\n\u001b[1;32m     98\u001b[0m         \u001b[0mtensors\u001b[0m\u001b[0;34m,\u001b[0m \u001b[0mgrad_tensors\u001b[0m\u001b[0;34m,\u001b[0m \u001b[0mretain_graph\u001b[0m\u001b[0;34m,\u001b[0m \u001b[0mcreate_graph\u001b[0m\u001b[0;34m,\u001b[0m\u001b[0;34m\u001b[0m\u001b[0;34m\u001b[0m\u001b[0m\n\u001b[0;32m---> 99\u001b[0;31m         allow_unreachable=True)  # allow_unreachable flag\n\u001b[0m\u001b[1;32m    100\u001b[0m \u001b[0;34m\u001b[0m\u001b[0m\n\u001b[1;32m    101\u001b[0m \u001b[0;34m\u001b[0m\u001b[0m\n",
            "\u001b[0;31mKeyboardInterrupt\u001b[0m: "
          ]
        }
      ]
    },
    {
      "cell_type": "code",
      "metadata": {
        "id": "dPHiyflR4m9t",
        "colab_type": "code",
        "colab": {
          "base_uri": "https://localhost:8080/",
          "height": 396
        },
        "outputId": "c6e7156e-b2d3-4ff6-952c-adc335352412"
      },
      "source": [
        "trainIters(encoder, decoder, 10, e_start=11)"
      ],
      "execution_count": null,
      "outputs": [
        {
          "output_type": "stream",
          "text": [
            "11m 27s (- -2m 57s) (11 110%) 1.7043\n"
          ],
          "name": "stdout"
        },
        {
          "output_type": "stream",
          "text": [
            "/usr/local/lib/python3.6/dist-packages/ipykernel_launcher.py:19: UserWarning: Implicit dimension choice for softmax has been deprecated. Change the call to include dim=X as an argument.\n",
            "/usr/local/lib/python3.6/dist-packages/ipykernel_launcher.py:21: UserWarning: Implicit dimension choice for softmax has been deprecated. Change the call to include dim=X as an argument.\n"
          ],
          "name": "stderr"
        },
        {
          "output_type": "error",
          "ename": "UnboundLocalError",
          "evalue": "ignored",
          "traceback": [
            "\u001b[0;31m---------------------------------------------------------------------------\u001b[0m",
            "\u001b[0;31mUnboundLocalError\u001b[0m                         Traceback (most recent call last)",
            "\u001b[0;32m<ipython-input-50-ed024fc96eee>\u001b[0m in \u001b[0;36m<module>\u001b[0;34m()\u001b[0m\n\u001b[0;32m----> 1\u001b[0;31m \u001b[0mtrainIters\u001b[0m\u001b[0;34m(\u001b[0m\u001b[0mencoder\u001b[0m\u001b[0;34m,\u001b[0m \u001b[0mdecoder\u001b[0m\u001b[0;34m,\u001b[0m \u001b[0;36m10\u001b[0m\u001b[0;34m,\u001b[0m \u001b[0me_start\u001b[0m\u001b[0;34m=\u001b[0m\u001b[0;36m11\u001b[0m\u001b[0;34m)\u001b[0m\u001b[0;34m\u001b[0m\u001b[0;34m\u001b[0m\u001b[0m\n\u001b[0m",
            "\u001b[0;32m<ipython-input-48-0d49f3af6c3d>\u001b[0m in \u001b[0;36mtrainIters\u001b[0;34m(encoder, decoder, n_iters, learning_rate, e_start, last_valid_loss)\u001b[0m\n\u001b[1;32m     36\u001b[0m         \u001b[0mprint\u001b[0m\u001b[0;34m(\u001b[0m\u001b[0;34m'%s (%d %d%%) %.4f'\u001b[0m \u001b[0;34m%\u001b[0m \u001b[0;34m(\u001b[0m\u001b[0mtimeSince\u001b[0m\u001b[0;34m(\u001b[0m\u001b[0mstart\u001b[0m\u001b[0;34m,\u001b[0m \u001b[0mi\u001b[0m \u001b[0;34m/\u001b[0m \u001b[0mn_iters\u001b[0m\u001b[0;34m)\u001b[0m\u001b[0;34m,\u001b[0m \u001b[0mi\u001b[0m\u001b[0;34m,\u001b[0m \u001b[0mi\u001b[0m \u001b[0;34m/\u001b[0m \u001b[0mn_iters\u001b[0m \u001b[0;34m*\u001b[0m \u001b[0;36m100\u001b[0m\u001b[0;34m,\u001b[0m \u001b[0mloss_avg\u001b[0m\u001b[0;34m)\u001b[0m\u001b[0;34m)\u001b[0m\u001b[0;34m\u001b[0m\u001b[0;34m\u001b[0m\u001b[0m\n\u001b[1;32m     37\u001b[0m         \u001b[0mtrain_losses\u001b[0m\u001b[0;34m.\u001b[0m\u001b[0mappend\u001b[0m\u001b[0;34m(\u001b[0m\u001b[0mloss_avg\u001b[0m\u001b[0;34m)\u001b[0m\u001b[0;34m\u001b[0m\u001b[0;34m\u001b[0m\u001b[0m\n\u001b[0;32m---> 38\u001b[0;31m         \u001b[0mbleu_scores\u001b[0m\u001b[0;34m.\u001b[0m\u001b[0mappend\u001b[0m\u001b[0;34m(\u001b[0m\u001b[0mEvaluate\u001b[0m\u001b[0;34m(\u001b[0m\u001b[0mencoder\u001b[0m\u001b[0;34m,\u001b[0m \u001b[0mdecoder\u001b[0m\u001b[0;34m,\u001b[0m \u001b[0mtrain_data_index\u001b[0m\u001b[0;34m)\u001b[0m\u001b[0;34m)\u001b[0m\u001b[0;34m\u001b[0m\u001b[0;34m\u001b[0m\u001b[0m\n\u001b[0m\u001b[1;32m     39\u001b[0m         \u001b[0;31m# valid_loss = 0\u001b[0m\u001b[0;34m\u001b[0m\u001b[0;34m\u001b[0m\u001b[0;34m\u001b[0m\u001b[0m\n\u001b[1;32m     40\u001b[0m         \u001b[0;31m# encoder = encoder.eval()\u001b[0m\u001b[0;34m\u001b[0m\u001b[0;34m\u001b[0m\u001b[0;34m\u001b[0m\u001b[0m\n",
            "\u001b[0;32m<ipython-input-47-18b43fe2d14c>\u001b[0m in \u001b[0;36mEvaluate\u001b[0;34m(encoder, decoder, indices)\u001b[0m\n\u001b[1;32m     20\u001b[0m             \u001b[0;31m# print(inttoword[int(F.softmax(ans).argmax())],arr[i])\u001b[0m\u001b[0;34m\u001b[0m\u001b[0;34m\u001b[0m\u001b[0;34m\u001b[0m\u001b[0m\n\u001b[1;32m     21\u001b[0m             \u001b[0mstart\u001b[0m \u001b[0;34m=\u001b[0m \u001b[0mF\u001b[0m\u001b[0;34m.\u001b[0m\u001b[0msoftmax\u001b[0m\u001b[0;34m(\u001b[0m\u001b[0mans\u001b[0m\u001b[0;34m)\u001b[0m\u001b[0;34m.\u001b[0m\u001b[0margmax\u001b[0m\u001b[0;34m(\u001b[0m\u001b[0;34m)\u001b[0m\u001b[0;34m\u001b[0m\u001b[0;34m\u001b[0m\u001b[0m\n\u001b[0;32m---> 22\u001b[0;31m         \u001b[0mscore\u001b[0m \u001b[0;34m+=\u001b[0m \u001b[0msentence_bleu\u001b[0m\u001b[0;34m(\u001b[0m\u001b[0marr\u001b[0m\u001b[0;34m,\u001b[0m \u001b[0mpred\u001b[0m\u001b[0;34m)\u001b[0m\u001b[0;34m\u001b[0m\u001b[0;34m\u001b[0m\u001b[0m\n\u001b[0m\u001b[1;32m     23\u001b[0m     \u001b[0mencoder\u001b[0m \u001b[0;34m=\u001b[0m \u001b[0mencoder\u001b[0m\u001b[0;34m.\u001b[0m\u001b[0mtrain\u001b[0m\u001b[0;34m(\u001b[0m\u001b[0;34m)\u001b[0m\u001b[0;34m\u001b[0m\u001b[0;34m\u001b[0m\u001b[0m\n\u001b[1;32m     24\u001b[0m     \u001b[0mdecoder\u001b[0m \u001b[0;34m=\u001b[0m \u001b[0mdecoder\u001b[0m\u001b[0;34m.\u001b[0m\u001b[0mtrain\u001b[0m\u001b[0;34m(\u001b[0m\u001b[0;34m)\u001b[0m\u001b[0;34m\u001b[0m\u001b[0;34m\u001b[0m\u001b[0m\n",
            "\u001b[0;31mUnboundLocalError\u001b[0m: local variable 'score' referenced before assignment"
          ]
        }
      ]
    },
    {
      "cell_type": "code",
      "metadata": {
        "id": "goeH_4kB3t3I",
        "colab_type": "code",
        "colab": {}
      },
      "source": [
        "def train_from_checkpoint(path, device=device):\n",
        "    model_states = torch.load(path, map_location=device)\n",
        "    encoder = Encoder(feature_extractor).to(device)\n",
        "    decoder = Decoder(343, len(wordtoint)).to(device)\n",
        "    encoder.load_state_dict(model_states[\"encoder_state_dict\"])\n",
        "    decoder.load_state_dict(model_states[\"decoder_state_dict\"])\n",
        "    loss = model_states[\"loss\"]\n",
        "    start = model_states[\"epoch\"]\n",
        "    epochs = 30\n",
        "    arr = list(range(data_size))\n",
        "    last_bleu_score = Evaluate(encoder, decoder, arr)\n",
        "    trainIters(encoder, decoder, epochs, e_start=start+1, min_avg_loss=loss, last_bleu_score = last_bleu_score)"
      ],
      "execution_count": null,
      "outputs": []
    },
    {
      "cell_type": "code",
      "metadata": {
        "id": "4NwnYIlRzJ2W",
        "colab_type": "code",
        "colab": {
          "base_uri": "https://localhost:8080/",
          "height": 1000
        },
        "outputId": "cc4efa50-9d7b-4e37-dbc5-bb11f83f88e7"
      },
      "source": [
        "train_from_checkpoint('/content/drive/My Drive/data/checkpoint/checkpoint.pth')"
      ],
      "execution_count": null,
      "outputs": [
        {
          "output_type": "stream",
          "text": [
            "10m 58s (- -7m 47s) (69 229%) 1.0409\n"
          ],
          "name": "stdout"
        },
        {
          "output_type": "stream",
          "text": [
            "/usr/local/lib/python3.6/dist-packages/ipykernel_launcher.py:20: UserWarning: Implicit dimension choice for softmax has been deprecated. Change the call to include dim=X as an argument.\n",
            "/usr/local/lib/python3.6/dist-packages/ipykernel_launcher.py:22: UserWarning: Implicit dimension choice for softmax has been deprecated. Change the call to include dim=X as an argument.\n",
            "/usr/local/lib/python3.6/dist-packages/nltk/translate/bleu_score.py:490: UserWarning: \n",
            "Corpus/Sentence contains 0 counts of 2-gram overlaps.\n",
            "BLEU scores might be undesirable; use SmoothingFunction().\n",
            "  warnings.warn(_msg)\n"
          ],
          "name": "stderr"
        },
        {
          "output_type": "stream",
          "text": [
            "23m 0s (- -14m 50s) (70 233%) 1.0119\n",
            "Saving Model State at:  70\n",
            "35m 5s (- -21m 44s) (71 236%) 1.0111\n",
            "Saving Model State at:  71\n",
            "47m 9s (- -28m 29s) (72 240%) 0.9873\n",
            "Saving Model State at:  72\n",
            "59m 15s (- -35m 5s) (73 243%) 1.0020\n",
            "71m 19s (- -43m 35s) (74 246%) 0.9752\n",
            "Saving Model State at:  74\n",
            "83m 20s (- -51m 59s) (75 250%) 0.9742\n",
            "Saving Model State at:  75\n",
            "95m 19s (- -58m 18s) (76 253%) 0.9290\n",
            "Saving Model State at:  76\n",
            "107m 17s (- -66m 30s) (77 256%) 0.9546\n",
            "119m 11s (- -74m 39s) (78 260%) 0.9606\n",
            "131m 8s (- -82m 39s) (79 263%) 0.9206\n",
            "Saving Model State at:  79\n",
            "143m 11s (- -90m 30s) (80 266%) 0.9404\n",
            "155m 10s (- -98m 17s) (81 270%) 0.9262\n",
            "167m 4s (- -106m 3s) (82 273%) 0.9309\n",
            "179m 4s (- -115m 39s) (83 276%) 0.9274\n",
            "191m 3s (- -123m 10s) (84 280%) 0.9039\n",
            "Saving Model State at:  84\n",
            "203m 9s (- -132m 32s) (85 283%) 0.8990\n",
            "Saving Model State at:  85\n",
            "215m 8s (- -141m 54s) (86 286%) 0.8907\n",
            "Saving Model State at:  86\n",
            "227m 12s (- -149m 8s) (87 290%) 0.8933\n",
            "239m 21s (- -158m 14s) (88 293%) 0.8911\n",
            "251m 26s (- -167m 18s) (89 296%) 0.8932\n",
            "263m 30s (- -176m 19s) (90 300%) 0.8735\n",
            "Saving Model State at:  90\n",
            "275m 32s (- -185m 17s) (91 303%) 0.8337\n",
            "Saving Model State at:  91\n",
            "287m 38s (- -194m 9s) (92 306%) 0.8737\n",
            "299m 43s (- -204m 57s) (93 310%) 0.8571\n",
            "311m 44s (- -213m 45s) (94 313%) 0.8491\n",
            "323m 42s (- -222m 31s) (95 316%) 0.8314\n",
            "Saving Model State at:  95\n",
            "335m 49s (- -231m 7s) (96 320%) 0.8410\n",
            "347m 50s (- -241m 44s) (97 323%) 0.8367\n",
            "360m 11s (- -250m 4s) (98 326%) 0.8459\n"
          ],
          "name": "stdout"
        },
        {
          "output_type": "display_data",
          "data": {
            "text/plain": [
              "<Figure size 432x288 with 0 Axes>"
            ]
          },
          "metadata": {
            "tags": []
          }
        },
        {
          "output_type": "display_data",
          "data": {
            "image/png": "[encoded data removed]",
            "text/plain": [
              "<Figure size 432x288 with 1 Axes>"
            ]
          },
          "metadata": {
            "tags": []
          }
        }
      ]
    },
    {
      "cell_type": "code",
      "metadata": {
        "id": "o93FxeUb0Jwo",
        "colab_type": "code",
        "colab": {
          "base_uri": "https://localhost:8080/",
          "height": 1000
        },
        "outputId": "9c99cbea-1f58-474d-b0fc-18534752e2a4"
      },
      "source": [
        "train_from_checkpoint('/content/drive/My Drive/data/checkpoint/checkpoint.pth')"
      ],
      "execution_count": null,
      "outputs": [
        {
          "output_type": "stream",
          "text": [
            "11m 1s (- -8m 24s) (96 320%) 0.8121\n"
          ],
          "name": "stdout"
        },
        {
          "output_type": "stream",
          "text": [
            "/usr/local/lib/python3.6/dist-packages/ipykernel_launcher.py:20: UserWarning: Implicit dimension choice for softmax has been deprecated. Change the call to include dim=X as an argument.\n",
            "/usr/local/lib/python3.6/dist-packages/ipykernel_launcher.py:22: UserWarning: Implicit dimension choice for softmax has been deprecated. Change the call to include dim=X as an argument.\n",
            "/usr/local/lib/python3.6/dist-packages/nltk/translate/bleu_score.py:490: UserWarning: \n",
            "Corpus/Sentence contains 0 counts of 2-gram overlaps.\n",
            "BLEU scores might be undesirable; use SmoothingFunction().\n",
            "  warnings.warn(_msg)\n"
          ],
          "name": "stderr"
        },
        {
          "output_type": "stream",
          "text": [
            "Saving Model State at:  96\n",
            "23m 12s (- -17m 57s) (97 323%) 0.8388\n",
            "35m 29s (- -25m 22s) (98 326%) 0.8342\n",
            "47m 38s (- -34m 47s) (99 330%) 0.8116\n",
            "Saving Model State at:  99\n",
            "59m 50s (- -42m 6s) (100 333%) 0.8164\n",
            "72m 17s (- -51m 10s) (101 336%) 0.7975\n",
            "Saving Model State at:  101\n",
            "84m 53s (- -60m 4s) (102 340%) 0.8024\n",
            "97m 21s (- -69m 0s) (103 343%) 0.8099\n",
            "109m 58s (- -79m 44s) (104 346%) 0.8040\n",
            "122m 26s (- -88m 32s) (105 350%) 0.8055\n",
            "134m 58s (- -97m 13s) (106 353%) 0.7899\n",
            "Saving Model State at:  106\n",
            "147m 29s (- -107m 51s) (107 356%) 0.7866\n",
            "Saving Model State at:  107\n",
            "159m 57s (- -116m 28s) (108 360%) 0.7901\n",
            "172m 38s (- -126m 52s) (109 363%) 0.7913\n",
            "185m 12s (- -135m 18s) (110 366%) 0.7739\n",
            "Saving Model State at:  110\n",
            "197m 42s (- -145m 43s) (111 370%) 0.7704\n",
            "Saving Model State at:  111\n",
            "210m 18s (- -154m 1s) (112 373%) 0.7549\n",
            "Saving Model State at:  112\n",
            "222m 49s (- -164m 20s) (113 376%) 0.7389\n",
            "Saving Model State at:  113\n",
            "235m 20s (- -174m 35s) (114 380%) 0.7534\n",
            "247m 47s (- -184m 50s) (115 383%) 0.7474\n",
            "260m 16s (- -193m 2s) (116 386%) 0.7529\n",
            "272m 44s (- -203m 11s) (117 390%) 0.7519\n",
            "285m 10s (- -213m 19s) (118 393%) 0.7269\n",
            "Saving Model State at:  118\n",
            "297m 37s (- -223m 24s) (119 396%) 0.7378\n",
            "309m 53s (- -233m 35s) (120 400%) 0.7406\n",
            "322m 12s (- -243m 40s) (121 403%) 0.7263\n",
            "Saving Model State at:  121\n",
            "334m 22s (- -253m 50s) (122 406%) 0.7239\n",
            "Saving Model State at:  122\n",
            "346m 44s (- -263m 49s) (123 409%) 0.7239\n",
            "Saving Model State at:  123\n",
            "359m 4s (- -273m 48s) (124 413%) 0.7111\n",
            "Saving Model State at:  124\n",
            "371m 29s (- -283m 40s) (125 416%) 0.7131\n"
          ],
          "name": "stdout"
        },
        {
          "output_type": "display_data",
          "data": {
            "text/plain": [
              "<Figure size 432x288 with 0 Axes>"
            ]
          },
          "metadata": {
            "tags": []
          }
        },
        {
          "output_type": "display_data",
          "data": {
            "image/png": "[encoded data removed]",
            "text/plain": [
              "<Figure size 432x288 with 1 Axes>"
            ]
          },
          "metadata": {
            "tags": []
          }
        }
      ]
    },
    {
      "cell_type": "code",
      "metadata": {
        "id": "4IZSTj6Iy7Z_",
        "colab_type": "code",
        "colab": {
          "base_uri": "https://localhost:8080/",
          "height": 1000
        },
        "outputId": "092c8582-b053-4819-e5c9-d9eff6defa41"
      },
      "source": [
        "train_from_checkpoint('/content/drive/My Drive/data/checkpoint/checkpoint.pth')"
      ],
      "execution_count": null,
      "outputs": [
        {
          "output_type": "stream",
          "text": [
            "7m 48s (- -6m 4s) (125 416%) 0.7260\n"
          ],
          "name": "stdout"
        },
        {
          "output_type": "stream",
          "text": [
            "/usr/local/lib/python3.6/dist-packages/ipykernel_launcher.py:20: UserWarning: Implicit dimension choice for softmax has been deprecated. Change the call to include dim=X as an argument.\n",
            "/usr/local/lib/python3.6/dist-packages/ipykernel_launcher.py:22: UserWarning: Implicit dimension choice for softmax has been deprecated. Change the call to include dim=X as an argument.\n",
            "/usr/local/lib/python3.6/dist-packages/nltk/translate/bleu_score.py:490: UserWarning: \n",
            "Corpus/Sentence contains 0 counts of 2-gram overlaps.\n",
            "BLEU scores might be undesirable; use SmoothingFunction().\n",
            "  warnings.warn(_msg)\n"
          ],
          "name": "stderr"
        },
        {
          "output_type": "stream",
          "text": [
            "16m 28s (- -13m 27s) (126 420%) 0.7289\n",
            "25m 6s (- -20m 49s) (127 423%) 0.7133\n",
            "33m 46s (- -26m 8s) (128 426%) 0.7006\n",
            "Saving Model State at:  128\n",
            "42m 15s (- -33m 34s) (129 430%) 0.7143\n",
            "50m 45s (- -40m 57s) (130 433%) 0.6925\n",
            "Saving Model State at:  130\n",
            "59m 22s (- -46m 13s) (131 436%) 0.6821\n",
            "Saving Model State at:  131\n",
            "67m 43s (- -53m 40s) (132 440%) 0.6941\n"
          ],
          "name": "stdout"
        },
        {
          "output_type": "stream",
          "text": [
            "/usr/local/lib/python3.6/dist-packages/nltk/translate/bleu_score.py:490: UserWarning: \n",
            "Corpus/Sentence contains 0 counts of 3-gram overlaps.\n",
            "BLEU scores might be undesirable; use SmoothingFunction().\n",
            "  warnings.warn(_msg)\n"
          ],
          "name": "stderr"
        },
        {
          "output_type": "stream",
          "text": [
            "76m 12s (- -60m 59s) (133 443%) 0.7067\n",
            "84m 30s (- -66m 24s) (134 446%) 0.6838\n",
            "92m 28s (- -72m 4s) (135 450%) 0.6688\n",
            "Saving Model State at:  135\n",
            "100m 19s (- -79m 48s) (136 453%) 0.6752\n",
            "108m 12s (- -85m 29s) (137 456%) 0.6855\n",
            "116m 5s (- -91m 8s) (138 459%) 0.6689\n",
            "123m 54s (- -98m 49s) (139 463%) 0.6742\n",
            "131m 49s (- -104m 25s) (140 466%) 0.6721\n",
            "139m 43s (- -111m 59s) (141 470%) 0.6662\n",
            "Saving Model State at:  141\n",
            "147m 37s (- -117m 33s) (142 473%) 0.6831\n",
            "155m 29s (- -123m 7s) (143 476%) 0.6737\n",
            "163m 23s (- -130m 39s) (144 480%) 0.6482\n",
            "Saving Model State at:  144\n",
            "171m 8s (- -136m 15s) (145 483%) 0.6561\n",
            "179m 2s (- -143m 44s) (146 486%) 0.6549\n",
            "186m 49s (- -149m 18s) (147 490%) 0.6234\n",
            "Saving Model State at:  147\n",
            "194m 38s (- -156m 48s) (148 493%) 0.6253\n",
            "202m 24s (- -162m 20s) (149 496%) 0.6469\n",
            "210m 15s (- -169m 47s) (150 500%) 0.6534\n",
            "218m 3s (- -175m 16s) (151 503%) 0.6373\n",
            "225m 57s (- -182m 38s) (152 506%) 0.6422\n",
            "233m 50s (- -188m 0s) (153 509%) 0.6327\n",
            "241m 44s (- -195m 21s) (154 513%) 0.6283\n"
          ],
          "name": "stdout"
        },
        {
          "output_type": "display_data",
          "data": {
            "text/plain": [
              "<Figure size 432x288 with 0 Axes>"
            ]
          },
          "metadata": {
            "tags": []
          }
        },
        {
          "output_type": "display_data",
          "data": {
            "image/png": "[encoded data removed]",
            "text/plain": [
              "<Figure size 432x288 with 1 Axes>"
            ]
          },
          "metadata": {
            "tags": []
          }
        }
      ]
    },
    {
      "cell_type": "code",
      "metadata": {
        "id": "QKFZMyrUrrzP",
        "colab_type": "code",
        "colab": {
          "base_uri": "https://localhost:8080/",
          "height": 1000
        },
        "outputId": "2b36583b-e11b-45bd-f464-804879374adc"
      },
      "source": [
        "train_from_checkpoint('/content/drive/My Drive/data/checkpoint/checkpoint.pth')"
      ],
      "execution_count": null,
      "outputs": [
        {
          "output_type": "stream",
          "text": [
            "10m 48s (- -9m 5s) (170 566%) 0.5281\n"
          ],
          "name": "stdout"
        },
        {
          "output_type": "stream",
          "text": [
            "/usr/local/lib/python3.6/dist-packages/ipykernel_launcher.py:20: UserWarning: Implicit dimension choice for softmax has been deprecated. Change the call to include dim=X as an argument.\n",
            "/usr/local/lib/python3.6/dist-packages/ipykernel_launcher.py:22: UserWarning: Implicit dimension choice for softmax has been deprecated. Change the call to include dim=X as an argument.\n",
            "/usr/local/lib/python3.6/dist-packages/nltk/translate/bleu_score.py:490: UserWarning: \n",
            "Corpus/Sentence contains 0 counts of 2-gram overlaps.\n",
            "BLEU scores might be undesirable; use SmoothingFunction().\n",
            "  warnings.warn(_msg)\n"
          ],
          "name": "stderr"
        },
        {
          "output_type": "stream",
          "text": [
            "Saving Model State at:  170\n",
            "22m 51s (- -19m 9s) (171 570%) 0.5401\n",
            "34m 53s (- -29m 11s) (172 573%) 0.5370\n",
            "46m 52s (- -39m 15s) (173 576%) 0.5468\n",
            "58m 52s (- -49m 16s) (174 580%) 0.5264\n",
            "Saving Model State at:  174\n",
            "70m 45s (- -59m 22s) (175 583%) 0.5278\n",
            "82m 45s (- -69m 20s) (176 586%) 0.5085\n",
            "Saving Model State at:  176\n",
            "94m 38s (- -79m 24s) (177 590%) 0.5253\n",
            "106m 30s (- -89m 26s) (178 593%) 0.5124\n",
            "118m 26s (- -99m 24s) (179 596%) 0.5117\n",
            "130m 15s (- -109m 27s) (180 600%) 0.5095\n",
            "142m 10s (- -119m 23s) (181 603%) 0.5064\n",
            "Saving Model State at:  181\n",
            "154m 14s (- -129m 11s) (182 606%) 0.5122\n",
            "166m 10s (- -139m 4s) (183 610%) 0.5028\n",
            "Saving Model State at:  183\n",
            "178m 11s (- -150m 51s) (184 613%) 0.4826\n",
            "Saving Model State at:  184\n",
            "190m 5s (- -160m 43s) (185 616%) 0.5061\n",
            "202m 13s (- -170m 23s) (186 620%) 0.5096\n",
            "214m 13s (- -180m 8s) (187 623%) 0.4938\n",
            "226m 10s (- -191m 55s) (188 626%) 0.5084\n",
            "238m 10s (- -201m 38s) (189 630%) 0.5014\n",
            "249m 48s (- -211m 38s) (190 633%) 0.4918\n",
            "261m 19s (- -221m 42s) (191 636%) 0.4965\n",
            "272m 53s (- -231m 44s) (192 640%) 0.4934\n",
            "284m 29s (- -241m 43s) (193 643%) 0.5057\n",
            "296m 5s (- -251m 41s) (194 646%) 0.5023\n",
            "307m 43s (- -261m 37s) (195 650%) 0.4964\n",
            "319m 25s (- -271m 28s) (196 653%) 0.5175\n",
            "331m 7s (- -281m 18s) (197 656%) 0.4851\n",
            "342m 36s (- -291m 18s) (198 660%) 0.4699\n",
            "Saving Model State at:  198\n",
            "354m 11s (- -301m 12s) (199 663%) 0.4711\n"
          ],
          "name": "stdout"
        },
        {
          "output_type": "display_data",
          "data": {
            "text/plain": [
              "<Figure size 432x288 with 0 Axes>"
            ]
          },
          "metadata": {
            "tags": []
          }
        },
        {
          "output_type": "display_data",
          "data": {
            "image/png": "[encoded data removed]",
            "text/plain": [
              "<Figure size 432x288 with 1 Axes>"
            ]
          },
          "metadata": {
            "tags": []
          }
        }
      ]
    },
    {
      "cell_type": "code",
      "metadata": {
        "id": "EKC3V-vqTfhR",
        "colab_type": "code",
        "colab": {
          "base_uri": "https://localhost:8080/",
          "height": 1000
        },
        "outputId": "e2b29381-aeab-45aa-b139-a339e3926116"
      },
      "source": [
        "train_from_checkpoint('/content/drive/My Drive/data/checkpoint/checkpoint.pth')"
      ],
      "execution_count": null,
      "outputs": [
        {
          "output_type": "stream",
          "text": [
            "cuda\n"
          ],
          "name": "stdout"
        },
        {
          "output_type": "stream",
          "text": [
            "/usr/local/lib/python3.6/dist-packages/ipykernel_launcher.py:20: UserWarning: Implicit dimension choice for softmax has been deprecated. Change the call to include dim=X as an argument.\n",
            "/usr/local/lib/python3.6/dist-packages/ipykernel_launcher.py:22: UserWarning: Implicit dimension choice for softmax has been deprecated. Change the call to include dim=X as an argument.\n",
            "/usr/local/lib/python3.6/dist-packages/nltk/translate/bleu_score.py:490: UserWarning: \n",
            "Corpus/Sentence contains 0 counts of 2-gram overlaps.\n",
            "BLEU scores might be undesirable; use SmoothingFunction().\n",
            "  warnings.warn(_msg)\n"
          ],
          "name": "stderr"
        },
        {
          "output_type": "stream",
          "text": [
            "8m 13s (- -7m 0s) (199 663%) 0.4990\n",
            "17m 11s (- -15m 23s) (200 666%) 0.4922\n",
            "26m 0s (- -23m 52s) (201 670%) 0.4898\n",
            "34m 45s (- -30m 24s) (202 673%) 0.4839\n",
            "43m 35s (- -38m 51s) (203 676%) 0.4916\n",
            "Saving Model State at:  203\n",
            "52m 32s (- -45m 11s) (204 680%) 0.4850\n",
            "Saving Model State at:  204\n",
            "61m 16s (- -53m 41s) (205 683%) 0.4700\n",
            "70m 9s (- -60m 3s) (206 686%) 0.4666\n",
            "78m 58s (- -68m 27s) (207 690%) 0.4701\n",
            "87m 44s (- -76m 54s) (208 693%) 0.4833\n",
            "96m 34s (- -83m 17s) (209 696%) 0.4864\n",
            "105m 19s (- -91m 43s) (210 700%) 0.4823\n",
            "114m 7s (- -98m 5s) (211 703%) 0.4811\n",
            "123m 0s (- -106m 23s) (212 706%) 0.4697\n",
            "131m 51s (- -114m 42s) (213 710%) 0.4696\n",
            "140m 48s (- -122m 55s) (214 713%) 0.4921\n",
            "149m 43s (- -129m 9s) (215 716%) 0.4764\n",
            "158m 31s (- -137m 29s) (216 720%) 0.4766\n",
            "167m 24s (- -145m 44s) (217 723%) 0.4870\n",
            "176m 13s (- -152m 1s) (218 726%) 0.4627\n",
            "184m 59s (- -160m 20s) (219 730%) 0.4717\n",
            "193m 56s (- -168m 30s) (220 733%) 0.4814\n",
            "202m 46s (- -176m 44s) (221 736%) 0.4738\n",
            "211m 31s (- -183m 3s) (222 740%) 0.4679\n",
            "220m 22s (- -191m 16s) (223 743%) 0.4638\n",
            "229m 13s (- -199m 28s) (224 746%) 0.4707\n",
            "238m 2s (- -207m 41s) (225 750%) 0.4751\n",
            "246m 57s (- -215m 49s) (226 753%) 0.4670\n",
            "255m 47s (- -222m 0s) (227 756%) 0.4602\n",
            "264m 39s (- -230m 9s) (228 760%) 0.4578\n",
            "Saving Model State at:  228\n"
          ],
          "name": "stdout"
        },
        {
          "output_type": "display_data",
          "data": {
            "text/plain": [
              "<Figure size 432x288 with 0 Axes>"
            ]
          },
          "metadata": {
            "tags": []
          }
        },
        {
          "output_type": "display_data",
          "data": {
            "image/png": "[encoded data removed]",
            "text/plain": [
              "<Figure size 432x288 with 1 Axes>"
            ]
          },
          "metadata": {
            "tags": []
          }
        }
      ]
    },
    {
      "cell_type": "code",
      "metadata": {
        "id": "DoGYRykbS2Hj",
        "colab_type": "code",
        "colab": {
          "base_uri": "https://localhost:8080/",
          "height": 1000
        },
        "outputId": "46315016-eaaf-4c06-aac2-612ce37e087e"
      },
      "source": [
        "train_from_checkpoint('/content/drive/My Drive/data/checkpoint/checkpoint.pth')"
      ],
      "execution_count": null,
      "outputs": [
        {
          "output_type": "stream",
          "text": [
            "/usr/local/lib/python3.6/dist-packages/ipykernel_launcher.py:20: UserWarning: Implicit dimension choice for softmax has been deprecated. Change the call to include dim=X as an argument.\n",
            "/usr/local/lib/python3.6/dist-packages/ipykernel_launcher.py:22: UserWarning: Implicit dimension choice for softmax has been deprecated. Change the call to include dim=X as an argument.\n",
            "/usr/local/lib/python3.6/dist-packages/nltk/translate/bleu_score.py:490: UserWarning: \n",
            "Corpus/Sentence contains 0 counts of 2-gram overlaps.\n",
            "BLEU scores might be undesirable; use SmoothingFunction().\n",
            "  warnings.warn(_msg)\n"
          ],
          "name": "stderr"
        },
        {
          "output_type": "stream",
          "text": [
            "10m 42s (- -10m 40s) (231 770%) 0.4586\n",
            "22m 27s (- -20m 26s) (232 773%) 0.4565\n",
            "Saving Model State at:  232\n",
            "34m 32s (- -31m 54s) (233 776%) 0.4766\n",
            "46m 28s (- -41m 28s) (234 780%) 0.4842\n",
            "57m 51s (- -51m 31s) (235 783%) 0.4563\n",
            "Saving Model State at:  235\n",
            "69m 17s (- -61m 30s) (236 786%) 0.4479\n",
            "80m 51s (- -71m 22s) (237 790%) 0.4763\n",
            "92m 40s (- -81m 0s) (238 793%) 0.4603\n",
            "104m 16s (- -92m 48s) (239 796%) 0.4483\n",
            "115m 55s (- -102m 34s) (240 800%) 0.4563\n",
            "127m 28s (- -112m 23s) (241 803%) 0.4552\n",
            "139m 0s (- -122m 13s) (242 806%) 0.4751\n",
            "150m 45s (- -133m 51s) (243 810%) 0.4569\n",
            "162m 22s (- -143m 35s) (244 813%) 0.4678\n",
            "174m 18s (- -153m 2s) (245 816%) 0.4469\n",
            "Saving Model State at:  245\n",
            "186m 13s (- -164m 29s) (246 819%) 0.4521\n",
            "197m 58s (- -174m 3s) (247 823%) 0.4450\n",
            "209m 47s (- -185m 35s) (248 826%) 0.4696\n",
            "221m 37s (- -195m 4s) (249 830%) 0.4485\n",
            "233m 43s (- -206m 19s) (250 833%) 0.4640\n",
            "245m 52s (- -217m 30s) (251 836%) 0.4693\n",
            "257m 39s (- -227m 0s) (252 840%) 0.4554\n",
            "269m 31s (- -238m 26s) (253 843%) 0.4418\n",
            "281m 22s (- -249m 51s) (254 846%) 0.4489\n",
            "293m 15s (- -259m 14s) (255 850%) 0.4479\n",
            "304m 59s (- -270m 44s) (256 853%) 0.4580\n",
            "316m 38s (- -280m 19s) (257 856%) 0.4632\n",
            "328m 15s (- -291m 54s) (258 860%) 0.4445\n",
            "339m 51s (- -301m 30s) (259 863%) 0.4572\n",
            "351m 29s (- -311m 3s) (260 866%) 0.4523\n"
          ],
          "name": "stdout"
        },
        {
          "output_type": "display_data",
          "data": {
            "text/plain": [
              "<Figure size 432x288 with 0 Axes>"
            ]
          },
          "metadata": {
            "tags": []
          }
        },
        {
          "output_type": "display_data",
          "data": {
            "image/png": "[encoded data removed]",
            "text/plain": [
              "<Figure size 432x288 with 1 Axes>"
            ]
          },
          "metadata": {
            "tags": []
          }
        }
      ]
    },
    {
      "cell_type": "code",
      "metadata": {
        "id": "rqfQdznMbDuG",
        "colab_type": "code",
        "colab": {
          "base_uri": "https://localhost:8080/",
          "height": 455
        },
        "outputId": "398246b4-e291-4ac9-e889-b79f32ab1c55"
      },
      "source": [
        "train_from_checkpoint('/content/drive/My Drive/data/checkpoint/checkpoint.pth')"
      ],
      "execution_count": null,
      "outputs": [
        {
          "output_type": "stream",
          "text": [
            "/usr/local/lib/python3.6/dist-packages/ipykernel_launcher.py:20: UserWarning: Implicit dimension choice for softmax has been deprecated. Change the call to include dim=X as an argument.\n",
            "/usr/local/lib/python3.6/dist-packages/ipykernel_launcher.py:22: UserWarning: Implicit dimension choice for softmax has been deprecated. Change the call to include dim=X as an argument.\n",
            "/usr/local/lib/python3.6/dist-packages/nltk/translate/bleu_score.py:490: UserWarning: \n",
            "Corpus/Sentence contains 0 counts of 2-gram overlaps.\n",
            "BLEU scores might be undesirable; use SmoothingFunction().\n",
            "  warnings.warn(_msg)\n"
          ],
          "name": "stderr"
        },
        {
          "output_type": "stream",
          "text": [
            "11m 1s (- -10m 19s) (246 819%) 0.5747\n",
            "23m 8s (- -21m 39s) (247 823%) 0.5963\n",
            "35m 17s (- -32m 58s) (248 826%) 0.5783\n",
            "47m 25s (- -42m 17s) (249 830%) 0.5887\n",
            "59m 35s (- -53m 33s) (250 833%) 0.5924\n",
            "71m 45s (- -64m 49s) (251 836%) 0.5945\n",
            "83m 44s (- -74m 13s) (252 840%) 0.5725\n",
            "95m 52s (- -85m 29s) (253 843%) 0.5933\n",
            "108m 9s (- -96m 36s) (254 846%) 0.6029\n",
            "120m 28s (- -107m 41s) (255 850%) 0.6036\n",
            "132m 37s (- -118m 55s) (256 853%) 0.5462\n",
            "144m 52s (- -128m 2s) (257 856%) 0.6076\n",
            "157m 2s (- -139m 12s) (258 860%) 0.6052\n",
            "169m 9s (- -150m 26s) (259 863%) 0.5763\n",
            "181m 24s (- -161m 31s) (260 866%) 0.5600\n",
            "193m 31s (- -172m 43s) (261 869%) 0.5617\n",
            "205m 41s (- -183m 51s) (262 873%) 0.5539\n"
          ],
          "name": "stdout"
        }
      ]
    },
    {
      "cell_type": "code",
      "metadata": {
        "id": "L4sqCsACByEF",
        "colab_type": "code",
        "colab": {
          "base_uri": "https://localhost:8080/",
          "height": 165
        },
        "outputId": "546a6655-f62a-41ec-81c5-c1dd7f707417"
      },
      "source": [
        "encoder = Encoder(feature_extractor).to(device)\n",
        "decoder = Decoder(343, len(wordtoint)).to(device)\n",
        "model_states = torch.load('/content/drive/My Drive/data/checkpoint/checkpoint.pth', map_location=device)\n",
        "encoder.load_state_dict(model_states[\"encoder_state_dict\"])\n",
        "decoder.load_state_dict(model_states[\"decoder_state_dict\"])\n",
        "arr = list(range(data_size))\n",
        "Evaluate(encoder, decoder, arr)"
      ],
      "execution_count": null,
      "outputs": [
        {
          "output_type": "stream",
          "text": [
            "/usr/local/lib/python3.6/dist-packages/ipykernel_launcher.py:20: UserWarning: Implicit dimension choice for softmax has been deprecated. Change the call to include dim=X as an argument.\n",
            "/usr/local/lib/python3.6/dist-packages/ipykernel_launcher.py:22: UserWarning: Implicit dimension choice for softmax has been deprecated. Change the call to include dim=X as an argument.\n",
            "/usr/local/lib/python3.6/dist-packages/nltk/translate/bleu_score.py:490: UserWarning: \n",
            "Corpus/Sentence contains 0 counts of 2-gram overlaps.\n",
            "BLEU scores might be undesirable; use SmoothingFunction().\n",
            "  warnings.warn(_msg)\n"
          ],
          "name": "stderr"
        },
        {
          "output_type": "execute_result",
          "data": {
            "text/plain": [
              "0.4307601654376706"
            ]
          },
          "metadata": {
            "tags": []
          },
          "execution_count": 26
        }
      ]
    },
    {
      "cell_type": "code",
      "metadata": {
        "id": "AL4-MeUFlcJd",
        "colab_type": "code",
        "colab": {
          "base_uri": "https://localhost:8080/",
          "height": 165
        },
        "outputId": "8f89c503-8558-4575-b208-a933c2cee95f"
      },
      "source": [
        "arr = list(range(data_size))\n",
        "Evaluate(encoder, decoder, arr)"
      ],
      "execution_count": null,
      "outputs": [
        {
          "output_type": "stream",
          "text": [
            "/usr/local/lib/python3.6/dist-packages/ipykernel_launcher.py:20: UserWarning: Implicit dimension choice for softmax has been deprecated. Change the call to include dim=X as an argument.\n",
            "/usr/local/lib/python3.6/dist-packages/ipykernel_launcher.py:22: UserWarning: Implicit dimension choice for softmax has been deprecated. Change the call to include dim=X as an argument.\n",
            "/usr/local/lib/python3.6/dist-packages/nltk/translate/bleu_score.py:490: UserWarning: \n",
            "Corpus/Sentence contains 0 counts of 2-gram overlaps.\n",
            "BLEU scores might be undesirable; use SmoothingFunction().\n",
            "  warnings.warn(_msg)\n"
          ],
          "name": "stderr"
        },
        {
          "output_type": "execute_result",
          "data": {
            "text/plain": [
              "0.4049858704039834"
            ]
          },
          "metadata": {
            "tags": []
          },
          "execution_count": 28
        }
      ]
    },
    {
      "cell_type": "code",
      "metadata": {
        "id": "Jn7HSE8CRc98",
        "colab_type": "code",
        "colab": {
          "base_uri": "https://localhost:8080/",
          "height": 324
        },
        "outputId": "4ffeb37b-475d-4f59-ccfb-856f65607694"
      },
      "source": [
        "%matplotlib inline\n",
        "scores = []\n",
        "indexs = list(range(data_size))\n",
        "random.shuffle(indexs)\n",
        "indexs = indexs[:1000]\n",
        "for idx in indexs:\n",
        "    img, tar = get_input_pair(idx)\n",
        "    plt.imshow(cv2.imread(get_path(\"Images\") + Image_file_names[idx]))\n",
        "    img = img.to(device)\n",
        "    tar = tar.to(device)\n",
        "    encoder = encoder.eval()\n",
        "    decoder = decoder.eval()\n",
        "    out = encoder(img).reshape(200, -1)\n",
        "    hid = decoder.initHidden().to(device)\n",
        "    start = torch.tensor([SOS_token]).to(device)\n",
        "    with open(get_path(\"MathML\") + MathML_file_names[idx]) as f:\n",
        "        arr = f.read().strip().split(\" \")\n",
        "    res = []\n",
        "    for i in range(400):\n",
        "        ans, hid, attn = decoder(start, hid, out)\n",
        "        # print(inttoword[int(F.softmax(ans).argmax())],arr[i])\n",
        "        res.append(inttoword[int(F.softmax(ans).argmax())])\n",
        "        if(int(F.softmax(ans).argmax()) == EOS_token):\n",
        "            break\n",
        "        start = F.softmax(ans).argmax()\n",
        "    scores.append(sentence_bleu(arr, res))\n",
        "    with open('test.mathml', 'w') as f:\n",
        "        f.write(\" \".join(res))\n",
        "    break\n",
        "# showPlot(scores, [], \"red\")"
      ],
      "execution_count": null,
      "outputs": [
        {
          "output_type": "stream",
          "text": [
            "/usr/local/lib/python3.6/dist-packages/ipykernel_launcher.py:22: UserWarning: Implicit dimension choice for softmax has been deprecated. Change the call to include dim=X as an argument.\n",
            "/usr/local/lib/python3.6/dist-packages/ipykernel_launcher.py:23: UserWarning: Implicit dimension choice for softmax has been deprecated. Change the call to include dim=X as an argument.\n",
            "/usr/local/lib/python3.6/dist-packages/ipykernel_launcher.py:25: UserWarning: Implicit dimension choice for softmax has been deprecated. Change the call to include dim=X as an argument.\n",
            "/usr/local/lib/python3.6/dist-packages/nltk/translate/bleu_score.py:490: UserWarning: \n",
            "Corpus/Sentence contains 0 counts of 2-gram overlaps.\n",
            "BLEU scores might be undesirable; use SmoothingFunction().\n",
            "  warnings.warn(_msg)\n"
          ],
          "name": "stderr"
        },
        {
          "output_type": "display_data",
          "data": {
            "image/png": "[encoded data removed]",
            "text/plain": [
              "<Figure size 432x288 with 1 Axes>"
            ]
          },
          "metadata": {
            "tags": []
          }
        }
      ]
    },
    {
      "cell_type": "code",
      "metadata": {
        "id": "jMIzahM5UnDa",
        "colab_type": "code",
        "colab": {
          "base_uri": "https://localhost:8080/",
          "height": 288
        },
        "outputId": "a0fcba54-74c1-4712-a5e3-ab7499c88e9c"
      },
      "source": [
        "import pandas as pd\n",
        "df = pd.DataFrame(scores)\n",
        "df.describe()"
      ],
      "execution_count": null,
      "outputs": [
        {
          "output_type": "execute_result",
          "data": {
            "text/html": [
              "<div>\n",
              "<style scoped>\n",
              "    .dataframe tbody tr th:only-of-type {\n",
              "        vertical-align: middle;\n",
              "    }\n",
              "\n",
              "    .dataframe tbody tr th {\n",
              "        vertical-align: top;\n",
              "    }\n",
              "\n",
              "    .dataframe thead th {\n",
              "        text-align: right;\n",
              "    }\n",
              "</style>\n",
              "<table border=\"1\" class=\"dataframe\">\n",
              "  <thead>\n",
              "    <tr style=\"text-align: right;\">\n",
              "      <th></th>\n",
              "      <th>0</th>\n",
              "    </tr>\n",
              "  </thead>\n",
              "  <tbody>\n",
              "    <tr>\n",
              "      <th>count</th>\n",
              "      <td>1.000000</td>\n",
              "    </tr>\n",
              "    <tr>\n",
              "      <th>mean</th>\n",
              "      <td>0.626284</td>\n",
              "    </tr>\n",
              "    <tr>\n",
              "      <th>std</th>\n",
              "      <td>NaN</td>\n",
              "    </tr>\n",
              "    <tr>\n",
              "      <th>min</th>\n",
              "      <td>0.626284</td>\n",
              "    </tr>\n",
              "    <tr>\n",
              "      <th>25%</th>\n",
              "      <td>0.626284</td>\n",
              "    </tr>\n",
              "    <tr>\n",
              "      <th>50%</th>\n",
              "      <td>0.626284</td>\n",
              "    </tr>\n",
              "    <tr>\n",
              "      <th>75%</th>\n",
              "      <td>0.626284</td>\n",
              "    </tr>\n",
              "    <tr>\n",
              "      <th>max</th>\n",
              "      <td>0.626284</td>\n",
              "    </tr>\n",
              "  </tbody>\n",
              "</table>\n",
              "</div>"
            ],
            "text/plain": [
              "              0\n",
              "count  1.000000\n",
              "mean   0.626284\n",
              "std         NaN\n",
              "min    0.626284\n",
              "25%    0.626284\n",
              "50%    0.626284\n",
              "75%    0.626284\n",
              "max    0.626284"
            ]
          },
          "metadata": {
            "tags": []
          },
          "execution_count": 88
        }
      ]
    },
    {
      "cell_type": "code",
      "metadata": {
        "id": "ijTC4V1nHsL4",
        "colab_type": "code",
        "colab": {}
      },
      "source": [
        "plot_scores = []\n",
        "for i, s in enumerate(scores):\n",
        "    if(i%10 == 0):\n",
        "        plot_scores.append(s)"
      ],
      "execution_count": null,
      "outputs": []
    },
    {
      "cell_type": "code",
      "metadata": {
        "id": "rD-qde6IIjrt",
        "colab_type": "code",
        "colab": {
          "base_uri": "https://localhost:8080/",
          "height": 283
        },
        "outputId": "16be961b-175c-44c7-8661-2bf94aef9431"
      },
      "source": [
        "showPlot(plot_scores, [], \"\")"
      ],
      "execution_count": null,
      "outputs": [
        {
          "output_type": "display_data",
          "data": {
            "text/plain": [
              "<Figure size 432x288 with 0 Axes>"
            ]
          },
          "metadata": {
            "tags": []
          }
        },
        {
          "output_type": "display_data",
          "data": {
            "image/png": "[encoded data removed]",
            "text/plain": [
              "<Figure size 432x288 with 1 Axes>"
            ]
          },
          "metadata": {
            "tags": []
          }
        }
      ]
    },
    {
      "cell_type": "code",
      "metadata": {
        "id": "45OyhhMuXShE",
        "colab_type": "code",
        "colab": {
          "base_uri": "https://localhost:8080/",
          "height": 55
        },
        "outputId": "15978b5a-d62c-4f4f-ba68-0d7c8cb8143a"
      },
      "source": [
        "with open('test.mathml', 'r') as f:\n",
        "    print(f.read())"
      ],
      "execution_count": null,
      "outputs": [
        {
          "output_type": "stream",
          "text": [
            "<mrow> <mn> 3 </mn> <mrow> <mn> 0 </mn> <mrow> <mo> \\times </mo> <mrow> <mn> 2 </mn> <mrow> <mn> 9 </mn> <msup> <mi> x </mi> <mrow> <mn> 2 </mn> <mn> 8 </mn> </mrow> </msup> </mrow> </mrow> </mrow> </mrow> </mrow> <EOS>\n"
          ],
          "name": "stdout"
        }
      ]
    },
    {
      "cell_type": "code",
      "metadata": {
        "id": "nZpCO9qs2xY4",
        "colab_type": "code",
        "colab": {}
      },
      "source": [
        "indexs[0]"
      ],
      "execution_count": null,
      "outputs": []
    },
    {
      "cell_type": "code",
      "metadata": {
        "id": "HRCKx01O6SG7",
        "colab_type": "code",
        "colab": {}
      },
      "source": [
        "# 6632\n",
        "# 6935\n",
        "# 10451\n",
        "# 10404\n",
        "# 8268\n",
        "# 5131\n",
        "# 5009\n",
        "# 4042\n",
        "# 1902"
      ],
      "execution_count": null,
      "outputs": []
    },
    {
      "cell_type": "code",
      "metadata": {
        "id": "yO26daPj_nnv",
        "colab_type": "code",
        "colab": {
          "base_uri": "https://localhost:8080/",
          "height": 237
        },
        "outputId": "22e1cbe0-99ab-4d4d-e84c-156c677105bd"
      },
      "source": [
        "!wget https://www.researchgate.net/profile/Ting_Zhang90/publication/324433547/figure/fig1/AS:614055790247948@1523413717398/Illustration-of-mathematical-expression-examples-a-A-simple-and-liner-expression.png"
      ],
      "execution_count": null,
      "outputs": [
        {
          "output_type": "stream",
          "text": [
            "--2019-11-12 19:17:03--  https://www.researchgate.net/profile/Ting_Zhang90/publication/324433547/figure/fig1/AS:614055790247948@1523413717398/Illustration-of-mathematical-expression-examples-a-A-simple-and-liner-expression.png\n",
            "Resolving www.researchgate.net (www.researchgate.net)... 104.17.33.105, 104.17.32.105\n",
            "Connecting to www.researchgate.net (www.researchgate.net)|104.17.33.105|:443... connected.\n",
            "HTTP request sent, awaiting response... 200 OK\n",
            "Length: 16298 (16K) [image/png]\n",
            "Saving to: ‘Illustration-of-mathematical-expression-examples-a-A-simple-and-liner-expression.png’\n",
            "\n",
            "\r          Illustrat   0%[                    ]       0  --.-KB/s               \rIllustration-of-mat 100%[===================>]  15.92K  --.-KB/s    in 0s      \n",
            "\n",
            "2019-11-12 19:17:04 (150 MB/s) - ‘Illustration-of-mathematical-expression-examples-a-A-simple-and-liner-expression.png’ saved [16298/16298]\n",
            "\n"
          ],
          "name": "stdout"
        }
      ]
    },
    {
      "cell_type": "code",
      "metadata": {
        "id": "et8pA-Kl_rhe",
        "colab_type": "code",
        "colab": {
          "base_uri": "https://localhost:8080/",
          "height": 353
        },
        "outputId": "f1b00fd7-55d1-448d-b973-e9dc2242e614"
      },
      "source": [
        "%matplotlib inline\n",
        "test_img_path = '/content/hello.png'\n",
        "img = Image.open(test_img_path).convert(\"RGB\")\n",
        "img = Image_transform(img).unsqueeze(0)\n",
        "plt.imshow(cv2.imread(test_img_path))\n",
        "img = img.to(device)\n",
        "tar = tar.to(device)\n",
        "encoder = encoder.eval()\n",
        "decoder = decoder.eval()\n",
        "out = encoder(img).reshape(200, -1)\n",
        "hid = decoder.initHidden().to(device)\n",
        "start = torch.tensor([SOS_token]).to(device)\n",
        "res = []\n",
        "for i in range(400):\n",
        "    ans, hid, attn = decoder(start, hid, out)\n",
        "    res.append(inttoword[int(F.softmax(ans).argmax())])\n",
        "    if(int(F.softmax(ans).argmax()) == EOS_token):\n",
        "        break\n",
        "    start = F.softmax(ans).argmax()\n",
        "with open('test.mathml', 'w') as f:\n",
        "    f.write(\" \".join(res))\n",
        "\n",
        "with open('test.mathml', 'r') as f:\n",
        "    print(f.read())"
      ],
      "execution_count": null,
      "outputs": [
        {
          "output_type": "stream",
          "text": [
            "<mrow> <msup> <mi> X </mi> <mn> 2 </mn> </msup> <mi> u </mi> </mrow> <mrow> <mi> </mi> </mi> </mrow> <EOS>\n"
          ],
          "name": "stdout"
        },
        {
          "output_type": "stream",
          "text": [
            "/usr/local/lib/python3.6/dist-packages/ipykernel_launcher.py:16: UserWarning: Implicit dimension choice for softmax has been deprecated. Change the call to include dim=X as an argument.\n",
            "  app.launch_new_instance()\n",
            "/usr/local/lib/python3.6/dist-packages/ipykernel_launcher.py:17: UserWarning: Implicit dimension choice for softmax has been deprecated. Change the call to include dim=X as an argument.\n",
            "/usr/local/lib/python3.6/dist-packages/ipykernel_launcher.py:19: UserWarning: Implicit dimension choice for softmax has been deprecated. Change the call to include dim=X as an argument.\n"
          ],
          "name": "stderr"
        },
        {
          "output_type": "display_data",
          "data": {
            "image/png": "[encoded data removed]",
            "text/plain": [
              "<Figure size 432x288 with 1 Axes>"
            ]
          },
          "metadata": {
            "tags": []
          }
        }
      ]
    },
    {
      "cell_type": "code",
      "metadata": {
        "id": "09s_JtBJAOOC",
        "colab_type": "code",
        "colab": {}
      },
      "source": [
        ""
      ],
      "execution_count": null,
      "outputs": []
    }
  ]
}